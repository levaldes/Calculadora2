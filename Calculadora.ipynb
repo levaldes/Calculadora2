{
  "nbformat": 4,
  "nbformat_minor": 0,
  "metadata": {
    "colab": {
      "provenance": [],
      "authorship_tag": "ABX9TyPv/3FL2pxTUwvE2BZ7nU/v",
      "include_colab_link": true
    },
    "kernelspec": {
      "name": "python3",
      "display_name": "Python 3"
    },
    "language_info": {
      "name": "python"
    }
  },
  "cells": [
    {
      "cell_type": "markdown",
      "metadata": {
        "id": "view-in-github",
        "colab_type": "text"
      },
      "source": [
        "<a href=\"https://colab.research.google.com/github/levaldes/Calculadora2/blob/main/Calculadora.ipynb\" target=\"_parent\"><img src=\"https://colab.research.google.com/assets/colab-badge.svg\" alt=\"Open In Colab\"/></a>"
      ]
    },
    {
      "cell_type": "code",
      "execution_count": null,
      "metadata": {
        "id": "6cuOvX4EaUKf"
      },
      "outputs": [],
      "source": [
        "num1 = int(input(\"numero 1: \"))\n",
        "num2 = int(input(\"numero 2: \"))\n",
        "\n",
        "valor = 0\n",
        "while True:\n",
        "    print(\"\"\"seleccione opcion\n",
        "            1- Sumar\n",
        "            2- Restar\n",
        "            3- Multiplicar\n",
        "            4- dividir\n",
        "        \"\"\")\n",
        "\n",
        "    valor = int(input(\"Elige una opcion: \") )\n",
        "\n",
        "    if valor == 1:\n",
        "        print(\"la suma es\",num1+num2)\n",
        "        break;\n",
        "    if valor == 2:\n",
        "        print(\"la resta es\",num1-num2)\n",
        "        break;\n",
        "    if valor == 3:\n",
        "        print(\"la multiplicacion es\",num1*num2)\n",
        "        break;\n",
        "    if valor == 4:\n",
        "        print(\"la division es\",num1/num2)\n",
        "        break;\n",
        "    else:\n",
        "        print(\"Opcion incorrecta\")\n",
        "        break;"
      ]
    }
  ]
}